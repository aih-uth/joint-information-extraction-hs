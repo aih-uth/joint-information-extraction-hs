{
 "cells": [
  {
   "cell_type": "code",
   "execution_count": null,
   "metadata": {
    "colab": {
     "base_uri": "https://localhost:8080/"
    },
    "executionInfo": {
     "elapsed": 103024,
     "status": "ok",
     "timestamp": 1636080058800,
     "user": {
      "displayName": "柴田大作",
      "photoUrl": "https://lh3.googleusercontent.com/a/default-user=s64",
      "userId": "16197630866240289355"
     },
     "user_tz": -540
    },
    "id": "eU_bnuPJEodw",
    "outputId": "65e0fcdb-87d7-4341-f10b-3ad8ccd1c5a4"
   },
   "outputs": [],
   "source": [
    "# https://qiita.com/jun40vn/items/78e33e29dce3d50c2df1 を参照\n",
    "!apt-get -q -y install sudo file mecab libmecab-dev mecab-ipadic-utf8 git curl python-mecab > /dev/null\n",
    "!git clone --depth 1 https://github.com/neologd/mecab-ipadic-neologd.git > /dev/null \n",
    "!echo yes | mecab-ipadic-neologd/bin/install-mecab-ipadic-neologd -n > /dev/null 2>&1\n",
    "!pip install mecab-python3==1.0.3 > /dev/null\n",
    "!ln -s /etc/mecabrc /usr/local/etc/mecabrc\n",
    "!pip install transformers\n",
    "!pip install jaconv\n",
    "!pip install unicodedata\n",
    "!pip install neologdn"
   ]
  },
  {
   "cell_type": "code",
   "execution_count": null,
   "metadata": {
    "colab": {
     "base_uri": "https://localhost:8080/"
    },
    "executionInfo": {
     "elapsed": 20411,
     "status": "ok",
     "timestamp": 1636082410085,
     "user": {
      "displayName": "柴田大作",
      "photoUrl": "https://lh3.googleusercontent.com/a/default-user=s64",
      "userId": "16197630866240289355"
     },
     "user_tz": -540
    },
    "id": "BnkRtko3EeQB",
    "outputId": "fc0deacc-8d5a-4e59-d780-7221d65e9c3a"
   },
   "outputs": [],
   "source": [
    "from google.colab import drive\n",
    "import os\n",
    "drive.mount('/content/drive')\n",
    "os.chdir(\"drive/MyDrive/Joint_Inference\")"
   ]
  },
  {
   "cell_type": "code",
   "execution_count": null,
   "metadata": {
    "colab": {
     "base_uri": "https://localhost:8080/"
    },
    "executionInfo": {
     "elapsed": 198859,
     "status": "ok",
     "timestamp": 1636080288830,
     "user": {
      "displayName": "柴田大作",
      "photoUrl": "https://lh3.googleusercontent.com/a/default-user=s64",
      "userId": "16197630866240289355"
     },
     "user_tz": -540
    },
    "id": "VlNib7GE6o5a",
    "outputId": "b91d0297-14b1-4b72-8643-4ba9fecd3fe1"
   },
   "outputs": [],
   "source": [
    "# フォルダを作成\n",
    "! mkdir resource BERT\n",
    "# 万病辞書のダウンロード\n",
    "! wget -O ./resource/MANBYO_201907_Dic-utf8.dic  http://sociocom.jp/~data/2018-manbyo/data/MANBYO_201907_Dic-utf8.dic \n",
    "# UTH-BERTのダウンロード\n",
    "! wget -O ./BERT/UTH_BERT_BASE_512_MC_BPE_WWM_V25000_352K.zip https://ai-health.m.u-tokyo.ac.jp/labweb/dl/uth_bert/UTH_BERT_BASE_512_MC_BPE_WWM_V25000_352K_pytorch.zip\n",
    "# ファイルを解凍\n",
    "! unzip ./BERT/UTH_BERT_BASE_512_MC_BPE_WWM_V25000_352K.zip -d ./BERT\n",
    "# モデルのダウンロード\n",
    "! wget --load-cookies /tmp/cookies.txt \"https://drive.google.com/uc?export=download&confirm=$(wget --quiet --save-cookies /tmp/cookies.txt --keep-session-cookies --no-check-certificate 'https://drive.google.com/uc?export=download&id=1Ec8P255DFB1KJkaZYO_MZAyLE9CXxrp6' -O- | sed -rn 's/.*confirm=([0-9A-Za-z_]+).*/\\1\\n/p')&id=1Ec8P255DFB1KJkaZYO_MZAyLE9CXxrp6\" -O ./models/20211012/model.pt && rm -rf /tmp/cookies.txt"
   ]
  },
  {
   "cell_type": "code",
   "execution_count": null,
   "metadata": {
    "id": "qfSg9vvWEQJn"
   },
   "outputs": [],
   "source": [
    "from lib.models import BERT_JOINT\n",
    "from lib.util import load_model, decode_ner, decode_re, spacy2df\n",
    "from lib.preprocess import uth_bert_preprocess, mecab_wakati, make_vector\n",
    "import os, sys, random\n",
    "import pandas as pd\n",
    "import numpy as np\n",
    "import torch\n",
    "import torch.nn as nn\n",
    "import torch.utils.data\n",
    "import torch.optim as optim\n",
    "import torch.nn.functional as F\n",
    "from torch.nn.utils.rnn import pad_sequence\n",
    "from pathlib import Path\n",
    "from transformers import BertModel, BertTokenizer\n",
    "import spacy\n",
    "from spacy import displacy\n",
    "from lib.html import transform_result2html_re, transform_result2html_ner\n",
    "from IPython.display import HTML\n",
    "from dataclasses import dataclass"
   ]
  },
  {
   "cell_type": "code",
   "execution_count": null,
   "metadata": {
    "id": "xJdCswChbDQ-"
   },
   "outputs": [],
   "source": [
    "# https://github.com/WindChimeRan/pytorch_multi_head_selection_re を参照\n",
    "@dataclass\n",
    "class Parameters(object):\n",
    "  bert_path: str = \"./BERT/UTH_BERT_BASE_512_MC_BPE_WWM_V25000_352K\"\n",
    "  neologd_path: str = \"/usr/lib/x86_64-linux-gnu/mecab/dic/mecab-ipadic-neologd\"\n",
    "  manbyo_path: str = \"./resource/MANBYO_201907_Dic-utf8.dic\"\n",
    "  rel2idx_path: str = \"./models/20211012/rel2idx.json\"\n",
    "  tag2idx_path: str = \"./models/20211012/tag2idx.json\"\n",
    "  model_path: str = \"./models/20211012/model.pt\"\n",
    "  max_text_len: int = 510"
   ]
  },
  {
   "cell_type": "code",
   "execution_count": null,
   "metadata": {
    "id": "W4er6TrOw51f"
   },
   "outputs": [],
   "source": [
    "# 情報抽出を行う文字列\n",
    "text = \"患者:55歳,男性.事務員.\\n主訴:嘔気.\\n既往歴:特記すべきことなし.\""
   ]
  },
  {
   "cell_type": "code",
   "execution_count": null,
   "metadata": {
    "colab": {
     "base_uri": "https://localhost:8080/"
    },
    "executionInfo": {
     "elapsed": 15613,
     "status": "ok",
     "timestamp": 1636080502982,
     "user": {
      "displayName": "柴田大作",
      "photoUrl": "https://lh3.googleusercontent.com/a/default-user=s64",
      "userId": "16197630866240289355"
     },
     "user_tz": -540
    },
    "id": "aN3YuGAMEQJr",
    "outputId": "de33dd37-97e4-4101-8bba-32d7d2e9e296"
   },
   "outputs": [],
   "source": [
    "paras = Parameters()\n",
    "text = uth_bert_preprocess(text)\n",
    "tokens = mecab_wakati(text, paras)\n",
    "vecs = make_vector(tokens, paras)\n",
    "model, tag2idx, rel2idx = load_model(paras)\n",
    "ner_preds, re_preds = model(torch.tensor(vecs), rel2idx)\n",
    "ner_preds = decode_ner(ner_preds, tag2idx)\n",
    "spacy_format = decode_re(tokens, re_preds, ner_preds, rel2idx)\n",
    "res_df = spacy2df(spacy_format, \"result.csv\")\n",
    "re_htmls = transform_result2html_re(res_df, spacy_format)\n",
    "ner_htmls = transform_result2html_ner(res_df)"
   ]
  },
  {
   "cell_type": "code",
   "execution_count": null,
   "metadata": {
    "colab": {
     "base_uri": "https://localhost:8080/",
     "height": 132
    },
    "executionInfo": {
     "elapsed": 242,
     "status": "ok",
     "timestamp": 1636080505795,
     "user": {
      "displayName": "柴田大作",
      "photoUrl": "https://lh3.googleusercontent.com/a/default-user=s64",
      "userId": "16197630866240289355"
     },
     "user_tz": -540
    },
    "id": "r-AvOe-9EQJs",
    "outputId": "14f7bb06-77ed-4d80-d6be-d9ccc10eecc1"
   },
   "outputs": [],
   "source": [
    "HTML(ner_htmls)"
   ]
  },
  {
   "cell_type": "code",
   "execution_count": null,
   "metadata": {
    "colab": {
     "base_uri": "https://localhost:8080/",
     "height": 776
    },
    "executionInfo": {
     "elapsed": 237,
     "status": "ok",
     "timestamp": 1636080507413,
     "user": {
      "displayName": "柴田大作",
      "photoUrl": "https://lh3.googleusercontent.com/a/default-user=s64",
      "userId": "16197630866240289355"
     },
     "user_tz": -540
    },
    "id": "YIsWxF7qEQJs",
    "outputId": "ef2ef16f-7aef-4bf2-b170-ec2caa46111e"
   },
   "outputs": [],
   "source": [
    "HTML(re_htmls)"
   ]
  },
  {
   "cell_type": "code",
   "execution_count": null,
   "metadata": {
    "colab": {
     "base_uri": "https://localhost:8080/",
     "height": 917
    },
    "executionInfo": {
     "elapsed": 21,
     "status": "ok",
     "timestamp": 1635998486206,
     "user": {
      "displayName": "柴田大作",
      "photoUrl": "https://lh3.googleusercontent.com/a/default-user=s64",
      "userId": "16197630866240289355"
     },
     "user_tz": -540
    },
    "id": "dickneCQQO9X",
    "outputId": "022fa3d4-cfe1-4a96-8770-b3b77bb29794"
   },
   "outputs": [],
   "source": [
    "res_df"
   ]
  }
 ],
 "metadata": {
  "colab": {
   "collapsed_sections": [],
   "name": "inference (Google Colab).ipynb",
   "provenance": []
  },
  "kernelspec": {
   "display_name": "Python 3",
   "language": "python",
   "name": "python3"
  },
  "language_info": {
   "codemirror_mode": {
    "name": "ipython",
    "version": 3
   },
   "file_extension": ".py",
   "mimetype": "text/x-python",
   "name": "python",
   "nbconvert_exporter": "python",
   "pygments_lexer": "ipython3",
   "version": "3.8.5"
  }
 },
 "nbformat": 4,
 "nbformat_minor": 2
}
